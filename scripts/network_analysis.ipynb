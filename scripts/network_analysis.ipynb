{
 "cells": [
  {
   "cell_type": "code",
   "execution_count": 23,
   "metadata": {},
   "outputs": [
    {
     "name": "stderr",
     "output_type": "stream",
     "text": [
      "C:\\Users\\thtg\\AppData\\Roaming\\Python\\Python39\\site-packages\\tqdm\\auto.py:22: TqdmWarning: IProgress not found. Please update jupyter and ipywidgets. See https://ipywidgets.readthedocs.io/en/stable/user_install.html\n",
      "  from .autonotebook import tqdm as notebook_tqdm\n"
     ]
    }
   ],
   "source": [
    "import torch\n",
    "import torch.nn as nn\n",
    "import torch.nn.functional as F\n",
    "import torch.optim as optim\n",
    "import torch.utils.data as utils\n",
    "from tqdm import tqdm\n",
    "import wandb"
   ]
  },
  {
   "cell_type": "code",
   "execution_count": 36,
   "metadata": {},
   "outputs": [],
   "source": [
    "n = 32\n",
    "input_size = n*2 + n*3 + 3 + 2 + 3"
   ]
  },
  {
   "cell_type": "code",
   "execution_count": 37,
   "metadata": {},
   "outputs": [
    {
     "name": "stdout",
     "output_type": "stream",
     "text": [
      "The model:\n",
      "Net(\n",
      "  (fc1): Linear(in_features=32, out_features=256, bias=True)\n",
      "  (ac1): ReLU()\n",
      "  (fc2): Linear(in_features=256, out_features=256, bias=True)\n",
      "  (ac2): ReLU()\n",
      "  (fc3): Linear(in_features=256, out_features=256, bias=True)\n",
      "  (ac3): ReLU()\n",
      "  (fc4): Linear(in_features=256, out_features=256, bias=True)\n",
      "  (ac4): ReLU()\n",
      "  (fc5): Linear(in_features=256, out_features=256, bias=True)\n",
      "  (ac5): ReLU()\n",
      "  (fc6): Linear(in_features=256, out_features=3, bias=True)\n",
      ")\n",
      "\n",
      "\n",
      "Just one layer:\n"
     ]
    },
    {
     "ename": "AttributeError",
     "evalue": "'Net' object has no attribute 'fc9'",
     "output_type": "error",
     "traceback": [
      "\u001b[1;31m---------------------------------------------------------------------------\u001b[0m",
      "\u001b[1;31mAttributeError\u001b[0m                            Traceback (most recent call last)",
      "Cell \u001b[1;32mIn[37], line 39\u001b[0m\n\u001b[0;32m     36\u001b[0m \u001b[38;5;28mprint\u001b[39m(net)\n\u001b[0;32m     38\u001b[0m \u001b[38;5;28mprint\u001b[39m(\u001b[38;5;124m'\u001b[39m\u001b[38;5;130;01m\\n\u001b[39;00m\u001b[38;5;130;01m\\n\u001b[39;00m\u001b[38;5;124mJust one layer:\u001b[39m\u001b[38;5;124m'\u001b[39m)\n\u001b[1;32m---> 39\u001b[0m \u001b[38;5;28mprint\u001b[39m(\u001b[43mnet\u001b[49m\u001b[38;5;241;43m.\u001b[39;49m\u001b[43mfc9\u001b[49m)\n\u001b[0;32m     41\u001b[0m \u001b[38;5;28mprint\u001b[39m(\u001b[38;5;124m'\u001b[39m\u001b[38;5;130;01m\\n\u001b[39;00m\u001b[38;5;130;01m\\n\u001b[39;00m\u001b[38;5;124mModel params:\u001b[39m\u001b[38;5;124m'\u001b[39m)\n\u001b[0;32m     42\u001b[0m \u001b[38;5;28;01mfor\u001b[39;00m param \u001b[38;5;129;01min\u001b[39;00m net\u001b[38;5;241m.\u001b[39mparameters():\n",
      "File \u001b[1;32mc:\\tools\\Anaconda3\\envs\\renderenv\\lib\\site-packages\\torch\\nn\\modules\\module.py:1269\u001b[0m, in \u001b[0;36mModule.__getattr__\u001b[1;34m(self, name)\u001b[0m\n\u001b[0;32m   1267\u001b[0m     \u001b[38;5;28;01mif\u001b[39;00m name \u001b[38;5;129;01min\u001b[39;00m modules:\n\u001b[0;32m   1268\u001b[0m         \u001b[38;5;28;01mreturn\u001b[39;00m modules[name]\n\u001b[1;32m-> 1269\u001b[0m \u001b[38;5;28;01mraise\u001b[39;00m \u001b[38;5;167;01mAttributeError\u001b[39;00m(\u001b[38;5;124m\"\u001b[39m\u001b[38;5;124m'\u001b[39m\u001b[38;5;132;01m{}\u001b[39;00m\u001b[38;5;124m'\u001b[39m\u001b[38;5;124m object has no attribute \u001b[39m\u001b[38;5;124m'\u001b[39m\u001b[38;5;132;01m{}\u001b[39;00m\u001b[38;5;124m'\u001b[39m\u001b[38;5;124m\"\u001b[39m\u001b[38;5;241m.\u001b[39mformat(\n\u001b[0;32m   1270\u001b[0m     \u001b[38;5;28mtype\u001b[39m(\u001b[38;5;28mself\u001b[39m)\u001b[38;5;241m.\u001b[39m\u001b[38;5;18m__name__\u001b[39m, name))\n",
      "\u001b[1;31mAttributeError\u001b[0m: 'Net' object has no attribute 'fc9'"
     ]
    }
   ],
   "source": [
    "class Net(nn.Module):\n",
    "\n",
    "    def __init__(self):\n",
    "        super(Net, self).__init__()\n",
    "        self.fc1 = nn.Linear(n, 256)\n",
    "        self.ac1 = nn.ReLU()\n",
    "        self.fc2 = nn.Linear(256, 256)\n",
    "        self.ac2 = nn.ReLU()\n",
    "        self.fc3 = nn.Linear(256, 256)\n",
    "        self.ac3 = nn.ReLU()\n",
    "        self.fc4 = nn.Linear(256, 256)\n",
    "        self.ac4 = nn.ReLU()\n",
    "        self.fc5 = nn.Linear(256, 256)\n",
    "        self.ac5 = nn.ReLU()\n",
    "        self.fc6 = nn.Linear(256, 3)\n",
    "        # self.ac9 = nn.Sigmoid()\n",
    "\n",
    "    def forward(self, x):\n",
    "        x0 = self.fc1(x)\n",
    "        x5 = self.ac1(x0)\n",
    "        x6 = self.fc2(x5)\n",
    "        x6 = self.ac2(x6)\n",
    "        x7 = self.fc3(x6)\n",
    "        x7 = self.ac3(x7)\n",
    "        x7 = self.fc4(x6)\n",
    "        x7 = self.ac4(x7)\n",
    "        x7 = self.fc5(x6)\n",
    "        x7 = self.ac5(x7)\n",
    "        x8 = self.fc6(x7)\n",
    "        # x = self.ac9(x)\n",
    "        return x8\n",
    "\n",
    "net = Net()\n",
    "\n",
    "print('The model:')\n",
    "print(net)\n",
    "\n",
    "print('\\n\\nJust one layer:')\n",
    "print(net.fc9)\n",
    "\n",
    "print('\\n\\nModel params:')\n",
    "for param in net.parameters():\n",
    "    print(param)\n",
    "\n",
    "print('\\n\\nLayer params:')\n",
    "for param in net.fc9.parameters():\n",
    "    print(param)"
   ]
  },
  {
   "cell_type": "code",
   "execution_count": 38,
   "metadata": {},
   "outputs": [],
   "source": [
    "net = Net()\n",
    "torch.save(net.state_dict(), f\"{n}_net\")"
   ]
  },
  {
   "cell_type": "code",
   "execution_count": 21,
   "metadata": {},
   "outputs": [
    {
     "data": {
      "text/plain": [
       "2568"
      ]
     },
     "execution_count": 21,
     "metadata": {},
     "output_type": "execute_result"
    }
   ],
   "source": [
    "input_size"
   ]
  },
  {
   "cell_type": "markdown",
   "metadata": {},
   "source": [
    "Image analysis"
   ]
  },
  {
   "cell_type": "code",
   "execution_count": 40,
   "metadata": {},
   "outputs": [],
   "source": [
    "import os\n",
    "os.environ[\"OPENCV_IO_ENABLE_OPENEXR\"]=\"1\"\n",
    "import cv2\n",
    "import numpy as np\n",
    "import math\n",
    "from skimage.metrics import mean_squared_error"
   ]
  },
  {
   "cell_type": "code",
   "execution_count": 41,
   "metadata": {},
   "outputs": [],
   "source": [
    "def calculate_rmse(image1, image2):\n",
    "    mse = mean_squared_error(image1, image2)\n",
    "    rmse = math.sqrt(mse)\n",
    "    return rmse"
   ]
  },
  {
   "cell_type": "code",
   "execution_count": 47,
   "metadata": {},
   "outputs": [
    {
     "name": "stdout",
     "output_type": "stream",
     "text": [
      "Shape (1080, 1920, 4)\n",
      "0.0064239324228016195\n"
     ]
    }
   ],
   "source": [
    "\n",
    "img1 = cv2.imread(r'ref (3).exr', cv2.IMREAD_UNCHANGED)\n",
    "img2 = cv2.imread(r'path_traced (3).exr', cv2.IMREAD_UNCHANGED)\n",
    "img1 = np.array(img1)\n",
    "img2 = np.array(img2)\n",
    "print(\"Shape\",img2.shape)\n",
    "print(calculate_rmse(image1=img1, image2= img2))"
   ]
  }
 ],
 "metadata": {
  "kernelspec": {
   "display_name": "renderenv",
   "language": "python",
   "name": "python3"
  },
  "language_info": {
   "codemirror_mode": {
    "name": "ipython",
    "version": 3
   },
   "file_extension": ".py",
   "mimetype": "text/x-python",
   "name": "python",
   "nbconvert_exporter": "python",
   "pygments_lexer": "ipython3",
   "version": "3.9.16"
  }
 },
 "nbformat": 4,
 "nbformat_minor": 2
}
